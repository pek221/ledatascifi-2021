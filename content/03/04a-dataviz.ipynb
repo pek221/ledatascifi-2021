{
 "cells": [
  {
   "cell_type": "markdown",
   "metadata": {},
   "source": [
    "# Data Visualization\n",
    "\n",
    "Data viz can be extremely powerful. There is an enormous amount of scholarship about how to create good visuals, and entire classes within our school about visualization itself. \n",
    "\n",
    "This chapter of the website is merely a light introduction to the topic, but will hopefully cover the essentials so that you can create, use, and criticize figures. \n",
    "\n",
    "\n",
    "```{admonition} Some great resources - check out each\n",
    ":class: tip\n",
    "- [socviz.co, the free online book on data viz](https://socviz.co/) by Kieran Healy is full of wisdom (but the code is in R)\n",
    "- [A good python data viz tutorial on Kaggle (more on the how's than the why's](https://www.kaggle.com/residentmario/welcome-to-data-visualization)\n",
    "- [What chart should I use](https://www.data-to-viz.com) and [how can I make it](https://python-graph-gallery.com)\n",
    "- [Jenny Bryan's `ggplot2` walkthrough is for R, but has wisdom I imported here](https://speakerdeck.com/jennybc/ggplot2-tutorial)\n",
    "- [Fundamentals of Data Visualization, by Claus O. Wilke](https://serialmentor.com/dataviz/)\n",
    "- [`seaborn` tutorials](https://seaborn.pydata.org/tutorial.html) \n",
    "- [R for Data Science, by Grolemund and Wickham](https://r4ds.had.co.nz/index.html)\n",
    "\n",
    "```"
   ]
  }
 ],
 "metadata": {
  "kernelspec": {
   "display_name": "Python 3",
   "language": "python",
   "name": "python3"
  },
  "language_info": {
   "codemirror_mode": {
    "name": "ipython",
    "version": 3
   },
   "file_extension": ".py",
   "mimetype": "text/x-python",
   "name": "python",
   "nbconvert_exporter": "python",
   "pygments_lexer": "ipython3",
   "version": "3.8.5"
  }
 },
 "nbformat": 4,
 "nbformat_minor": 4
}
