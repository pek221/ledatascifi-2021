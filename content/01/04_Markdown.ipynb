{
 "cells": [
  {
   "cell_type": "markdown",
   "metadata": {},
   "source": [
    "# Markdown basics\n",
    "\n",
    "What is it? Markdown is a just way to write text that gets formatted.  \n",
    "- GitHub uses it when you open a repo in a website: [In this repo](https://github.com/LeDataSciFi/ledatascifi-2021), I have text that is bolded, italics, and code. There are headers for sectioning. There is a lot more you can do with Markdown, but that will give you a taste.\n",
    "- When we work in Jupyter, we will write python code in files called python notebooks (`ipynb` files, for \"IPYthon NoteBooks\"). In these `ipynb` files, we can have python code interspersed with sections of markdown text. As a result, we can write code and analysis that is easy to follow and execute. In other words, `ipynb` files are useful to create code that is [reproducible, reusable, and shareable[(../about/objectives).\n",
    "\n",
    "I'll recommend four resources to practice and learn markdown:\n",
    "\n",
    "- [A very good markdown tutorial](https://commonmark.org/help/tutorial/) \n",
    "- [https://www.markdownguide.org/cheat-sheet](https://www.markdownguide.org/cheat-sheet)\n",
    "- [https://guides.github.com/features/mastering-markdown/](https://guides.github.com/features/mastering-markdown/)\n",
    "- Google \"How do I \\<do something \\> in markdown?\n"
   ]
  }
 ],
 "metadata": {
  "kernelspec": {
   "display_name": "Python 3",
   "language": "python",
   "name": "python3"
  },
  "language_info": {
   "codemirror_mode": {
    "name": "ipython",
    "version": 3
   },
   "file_extension": ".py",
   "mimetype": "text/x-python",
   "name": "python",
   "nbconvert_exporter": "python",
   "pygments_lexer": "ipython3",
   "version": "3.8.5"
  }
 },
 "nbformat": 4,
 "nbformat_minor": 4
}
