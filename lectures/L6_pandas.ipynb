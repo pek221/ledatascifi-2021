{
 "cells": [
  {
   "cell_type": "markdown",
   "metadata": {
    "slideshow": {
     "slide_type": "notes"
    }
   },
   "source": [
    "Teaching notes\n",
    "1. 20 minutes: Q0-Q3\n",
    "    - Ask: Some students will know to use the EDA guide on site. \n",
    "    - Talk through things to look for in output\n",
    "2. 35 minutes: Q4-Q5\n",
    "    - Let students that pre-solved show/contrast their solutions\n",
    "        - look at data source! here GDPCA is real, and annual\n",
    "    - Build on their answers by showing alt solution framework: \n",
    "        - emphasize pseudo coding\n",
    "        - Q4 --> chains, lambdas (bc v useful in chains), assign\n",
    "        - Q5 --> reset_index, dt, groupby=loops, pivot_table\n",
    "3. 20 min: Q6-Q7 and outro\n",
    "    - from pseudo code to implementation\n",
    "    - working with wide data is a pain --> reshape\n",
    "    \n",
    "When I have <20 minutes for the last batch, it will be a bit short"
   ]
  },
  {
   "cell_type": "markdown",
   "metadata": {
    "slideshow": {
     "slide_type": "slide"
    }
   },
   "source": [
    "# Hello! Today:\n",
    "\n",
    "1. Before class: \n",
    "    - Fetch your class notes repo and the lecture repo\n",
    "    - Copy pandas exercises from lectures (`content/03/02h_exercises.ipynb`) to your notes folder\n",
    "    - Open in JLab: exercises, a ipynb for taking notes, and a ipynb inside `class notes/codebook` to save a \"recipe\" today\n",
    "4. Getting dirty with `pandas`\n",
    "\n",
    "### Notes:\n",
    "- Please fill out a short check in survey: [https://forms.gle/3C56TPPJsWukKw318](https://forms.gle/3C56TPPJsWukKw318) \n",
    "- Popular request: I'm going to record, but remember participation credits"
   ]
  },
  {
   "cell_type": "markdown",
   "metadata": {
    "slideshow": {
     "slide_type": "slide"
    }
   },
   "source": [
    "## Peer reviews\n",
    "\n",
    "1. Tweaked instructioons:\n",
    "    - Go to [github.com](github.com)\n",
    "    - On the left side of the page, under repositories, you'll see that you have access to assignments for two peers\n",
    "2. Review progress: 37/96 (great!)"
   ]
  },
  {
   "cell_type": "markdown",
   "metadata": {
    "slideshow": {
     "slide_type": "slide"
    }
   },
   "source": [
    "## \"And now...\""
   ]
  },
  {
   "cell_type": "markdown",
   "metadata": {
    "slideshow": {
     "slide_type": "fragment"
    }
   },
   "source": [
    "## Pandas\n",
    "\n",
    "![](https://media.giphy.com/media/KyBX9ektgXWve/source.gif)"
   ]
  },
  {
   "cell_type": "markdown",
   "metadata": {
    "slideshow": {
     "slide_type": "subslide"
    }
   },
   "source": [
    "## Today: Pandas\n",
    "\n",
    "From last class:\n",
    ">Exploring the incredible FRED dataset: [https://fred.stlouisfed.org/](https://fred.stlouisfed.org/)\n",
    ">- Unreal repository of data:\n",
    ">    > Download, graph, and track **786,000 US and international time series from 103 sources.** \n",
    ">- Check out \"at a glance\" and \"popular series\"\n",
    ">- Usable in other classes: easy to download, clean, modify, analyze, plot all that in seconds of coding!"
   ]
  },
  {
   "cell_type": "markdown",
   "metadata": {
    "slideshow": {
     "slide_type": "subslide"
    }
   },
   "source": [
    "Today we will cover: \n",
    "- EDA (disc, and a simple recipe!)\n",
    "- pseudo coding and dev'ing code\n",
    "- pandas functions: assign, pivot_tables, ...\n",
    "- \"for-loops\" --> groupby\n",
    "- chaining (3.2.6!) / lambda functions \n",
    "    ```py\n",
    "    ( # anything between these parens\n",
    "    # is \"one\" line of code\n",
    "    )\n",
    "    ```\n",
    "\n",
    "Now, let's practice the exercises in 3.2.8. \n",
    "- Q0-Q3: breakout rooms, then call/response\n",
    "    - An \"EDA recipe\"\n",
    "- Q4 (+Q5?): \n",
    "    - Demos: Natalie and Christian; Alina and Anders\n",
    "    - Build on this to show: chaining, assign, lambda, groupby\n",
    "- Q6+Q7\n",
    "    - Reshaping+index (important to solving problems!)\n"
   ]
  },
  {
   "cell_type": "markdown",
   "metadata": {
    "slideshow": {
     "slide_type": "subslide"
    }
   },
   "source": [
    "### Next class\n",
    "\n",
    "We start graphing!\n",
    "\n",
    "### Student demos\n",
    "- Task: plot how median income has evolved over time for PA \n",
    "    - Bonus: plot CA, PA, and MI on one graph (arguably easier than just one!)\n",
    "    - HINT: Use `import seaborn as sns` to make the plot\n",
    "- Morning: Zhongrui (@zhz221) and Chengming (@chw221)\n",
    "- Afternoon: Blaise (@blaisemilanek) and Caitlin (@cak320)\n"
   ]
  },
  {
   "cell_type": "markdown",
   "metadata": {
    "slideshow": {
     "slide_type": "subslide"
    }
   },
   "source": [
    "## Summary \n",
    "\n",
    "We covered\n",
    "- Planning/pseudo code\n",
    "- EDA: some of the things to look for + a recipe\n",
    "- Pandas: reshaping, creating vars, summarizing data\n",
    "- Remember: In pandas \"for-loops\" = groupby (usually)\n",
    "- Panda pros: chaining\n",
    "\n",
    "![](https://media.giphy.com/media/H7x1H0veAJlo4/giphy.gif)\n",
    "\n",
    "#### Shut down: Restart your kernal and run code, save all open files, close JLab, commit and push your class notes repo.\n"
   ]
  }
 ],
 "metadata": {
  "kernelspec": {
   "display_name": "Python 3",
   "language": "python",
   "name": "python3"
  },
  "language_info": {
   "codemirror_mode": {
    "name": "ipython",
    "version": 3
   },
   "file_extension": ".py",
   "mimetype": "text/x-python",
   "name": "python",
   "nbconvert_exporter": "python",
   "pygments_lexer": "ipython3",
   "version": "3.8.5"
  }
 },
 "nbformat": 4,
 "nbformat_minor": 4
}
