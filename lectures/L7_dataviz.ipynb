{
 "cells": [
  {
   "cell_type": "markdown",
   "metadata": {
    "slideshow": {
     "slide_type": "notes"
    }
   },
   "source": [
    "Teaching notes\n",
    "\n",
    "- 20 minutes on preamble and assignment review\n",
    "- \n"
   ]
  },
  {
   "cell_type": "markdown",
   "metadata": {
    "slideshow": {
     "slide_type": "slide"
    }
   },
   "source": [
    "# Hello! Today:\n",
    "\n",
    "1. Before class: \n",
    "    - Fetch your class notes repo and the lecture repo\n",
    "    - Open in JLab: your answers for A2, and a ipynb for taking notes\n",
    "2. Understanding assignment 2 - my view + student solutions   \n",
    "4. Plotting with `pandas` (`df.plot()`) and `seaborn`\n",
    "\n",
    "_I'm going to record, but remember participation credits_"
   ]
  },
  {
   "cell_type": "markdown",
   "metadata": {
    "slideshow": {
     "slide_type": "slide"
    }
   },
   "source": [
    "## Assignments\n",
    "\n",
    "Assignment 1 grades: 80% avg so far - great! \n",
    "- Should post Wednesday "
   ]
  },
  {
   "cell_type": "markdown",
   "metadata": {
    "slideshow": {
     "slide_type": "fragment"
    }
   },
   "source": [
    "Let's go over my answers for A2. Notes you might take:\n",
    "- You say \"groups\" or \"for-loop\": I say `groupby` or `pivot_table`\n",
    "- Pseudo > Convert plan to pandas commands > Code (syntax part by part)\n",
    "    - Q9 and Q10 were supposed to use the (daily) portfolio returns you created in Q7\n",
    "    - Compounding returns in Q9: Anyone think they figured it out?\n",
    "- Tricks you can steal: \n",
    "    - `eda.py` (convenient), `.T` (tiny, but useful!)\n",
    "    - `.style.format(\"{:.2f}\")` is adaptable syntax to format `pd` tables nice\n",
    "    "
   ]
  },
  {
   "cell_type": "markdown",
   "metadata": {
    "slideshow": {
     "slide_type": "slide"
    }
   },
   "source": [
    "## \"And now...\"\n",
    "\n",
    "## Data Viz is not this...\n",
    "\n",
    "![](https://media.giphy.com/media/pi1u9o9M436Lu/giphy.gif)\n",
    "\n",
    "## [It's this](https://ledatascifi.github.io/ledatascifi-2021/content/03/04f-betterplots.html#interactive-plots-plotly)"
   ]
  },
  {
   "cell_type": "markdown",
   "metadata": {
    "slideshow": {
     "slide_type": "subslide"
    }
   },
   "source": [
    "## Quick discussion before we get into it\n",
    "\n",
    "Plot to explore data, discover trends/comps/relationship, present results\n",
    "\n",
    "PLOT A LOT! A LOT! A LOT!\n",
    "- Data viz (and modeling) are iterative: you learn what's worth looking at only as you go\n",
    "- Go to [Pandas EDA page](https://ledatascifi.github.io/ledatascifi-2021/content/03/02e_eda_golden.html#eda-of-compustat-firm-accounting-variables) > A mystery!"
   ]
  },
  {
   "cell_type": "markdown",
   "metadata": {
    "slideshow": {
     "slide_type": "subslide"
    }
   },
   "source": [
    "### Plot \n",
    "- To find relationships that differ by groups (`sns` options: hue, col, row; `sns.catplot`, `sns.lmplot`)\n",
    "    "
   ]
  },
  {
   "cell_type": "markdown",
   "metadata": {
    "slideshow": {
     "slide_type": "fragment"
    }
   },
   "source": [
    "- To understand data issues (3.3.4.2) > Solved the mystery!"
   ]
  },
  {
   "cell_type": "markdown",
   "metadata": {
    "slideshow": {
     "slide_type": "fragment"
    }
   },
   "source": [
    "- B/c summary stats only describe part of distribution (`sns`: distplot, boxplot)"
   ]
  },
  {
   "cell_type": "markdown",
   "metadata": {
    "slideshow": {
     "slide_type": "fragment"
    }
   },
   "source": [
    "- B/c summary stats don't show relationships (3.3.4.3) (`sns`: pairplot > heatmap > lmplot + jointplot)"
   ]
  },
  {
   "cell_type": "markdown",
   "metadata": {
    "slideshow": {
     "slide_type": "slide"
    }
   },
   "source": [
    "## Quickstart:\n",
    "\n",
    "```python\n",
    "import pandas as pd              # quick and dirty plots\n",
    "import numpy as np\n",
    "import seaborn as sns            # most of my plots\n",
    "import matplotlib.pyplot as plt  # formatting\n",
    "```\n",
    "\n",
    "Key links: [this](https://ledatascifi.github.io/ledatascifi-2021/content/03/04d-whichplot.html) and the links within\n",
    "\n",
    "## Student Demos \n",
    "\n",
    "Copy the last part of the `02h_exercises` into your code\n",
    "- Morning: Zhongrui (@zhz221) and Chengming (@chw221)\n",
    "- Afternoon: Blaise (@blaisemilanek) and Caitlin (@cak320)\n"
   ]
  },
  {
   "cell_type": "markdown",
   "metadata": {
    "slideshow": {
     "slide_type": "subslide"
    }
   },
   "source": [
    "## Now let's practice!\n",
    "\n",
    "Explore CCM variables \n",
    "- distributions (distplot and boxplot)\n",
    "    - work through parameters\n",
    "    - tricks: `query` in `data` argument \n",
    "- covariances (pairplot and heatmap)\n",
    "    - work through parameters\n",
    "    - not too many variables for pairplot\n",
    "    - tricks: in any scatter plot: `sample` to avoid oversaturation\n",
    "- groups \n",
    "    - Useful parameters: `hue`, `row`, `style`, `col`\n",
    "    - Bin / cut continuous vars to create discrete groups"
   ]
  },
  {
   "cell_type": "markdown",
   "metadata": {
    "slideshow": {
     "slide_type": "slide"
    }
   },
   "source": [
    "## Takeaway tips\n",
    "\n",
    "1. **Start with simple graphs**, and then build in and layer on \"complications\" and features.\n",
    "2. **Really** compare your code with the syntax in the documentation. **Understanding what each parameters does and needs is essential.**\n",
    "3. Triple check for typos, unclosed parentheses and the like\n",
    "4. [What chart should I use (with `sns` examples)](https://www.data-to-viz.com) and more help on [how can I make it](https://python-graph-gallery.com)\n",
    "5. The `seaborn` tutorial page is excellent: [https://seaborn.pydata.org/tutorial.html](https://seaborn.pydata.org/tutorial.html)\n"
   ]
  },
  {
   "cell_type": "markdown",
   "metadata": {
    "slideshow": {
     "slide_type": "subslide"
    }
   },
   "source": [
    "## Next class\n",
    "\n",
    "More graphing! \n",
    "\n",
    "### Student demos \n",
    "- Task: I'll email tonight\n",
    "- Morning: Andrew (@akz220) and Bai Hao (@baihao44)\n",
    "- Afternoon: Carly (@carlydiscolo) and\tConnor (@ConnorKressler)\n"
   ]
  },
  {
   "cell_type": "markdown",
   "metadata": {
    "slideshow": {
     "slide_type": "subslide"
    }
   },
   "source": [
    "## Summary \n",
    "\n",
    "We covered\n",
    "- A \"somewhat\" standard process of visual EDA:\n",
    "    - Explore variation within variables (distributions)\n",
    "    - Explore covariation between variables \n",
    "    - Explore how distributions depends on groups\n",
    "    - Explore how covariation depends on groups\n",
    "- The key plot functions to get started\n",
    "\n",
    "![](https://media.giphy.com/media/H7x1H0veAJlo4/giphy.gif)\n",
    "\n",
    "#### Shut down: Restart your kernal and run code, save all open files, close JLab, commit and push your class notes repo."
   ]
  }
 ],
 "metadata": {
  "kernelspec": {
   "display_name": "Python 3",
   "language": "python",
   "name": "python3"
  },
  "language_info": {
   "codemirror_mode": {
    "name": "ipython",
    "version": 3
   },
   "file_extension": ".py",
   "mimetype": "text/x-python",
   "name": "python",
   "nbconvert_exporter": "python",
   "pygments_lexer": "ipython3",
   "version": "3.8.5"
  }
 },
 "nbformat": 4,
 "nbformat_minor": 4
}
